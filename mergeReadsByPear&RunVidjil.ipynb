{
 "cells": [
  {
   "cell_type": "code",
   "execution_count": 1,
   "id": "84310767",
   "metadata": {},
   "outputs": [],
   "source": [
    "import os\n",
    "import subprocess as sp\n",
    "import glob"
   ]
  },
  {
   "cell_type": "code",
   "execution_count": 2,
   "id": "69da20e6",
   "metadata": {},
   "outputs": [],
   "source": [
    "fastq_path = os.path.join(\"path/to/fastq\")\n",
    "pear_path = os.path.join(\"path/to/miniconda3/envs/pear/bin\", \"pear\")\n",
    "vidjil_path = os.path.join(\"path/to/vidjil-algo-2021.04/vidjil-algo\")\n",
    "germline = os.path.join(\"path/to/vidjil-algo-2021.04/vidjil-algo-2021.04/germline\", \"homo-sapiens.g:IGH,IGK,IGL\")\n",
    "output_path = os.path.join(\"path/to/pear_vidjil_analysis\")"
   ]
  },
  {
   "cell_type": "code",
   "execution_count": 3,
   "id": "80eaedcf",
   "metadata": {},
   "outputs": [],
   "source": [
    "# makedir if output_path does not exist\n",
    "os.makedirs(output_path, exist_ok = False)"
   ]
  },
  {
   "cell_type": "code",
   "execution_count": 4,
   "id": "7cce8408",
   "metadata": {},
   "outputs": [],
   "source": [
    "os.makedirs(os.path.join(output_path, 'merged_out'), exist_ok = False)\n",
    "for file in glob.glob(os.path.join(fastq_path, \"*_R1_001.fastq.gz\")):\n",
    "    name = os.path.basename(file).split(\"_R1\")[0]\n",
    "    cmd = pear_path \n",
    "    cmd += ' -f '+ file\n",
    "    cmd += ' -r '+ os.path.join(fastq_path, name+\"_R2_001.fastq.gz\")\n",
    "    cmd += ' -j 8 -o '+os.path.join(output_path, 'merged_out', name)\n",
    "#     print(cmd)\n",
    "    sp.check_output(cmd, shell = True)"
   ]
  },
  {
   "cell_type": "code",
   "execution_count": 5,
   "id": "d6070642",
   "metadata": {},
   "outputs": [],
   "source": [
    "# Run vidjil\n",
    "for merged in glob.glob(os.path.join(output_path, 'merged_out', \"*.assembled.fastq\")):\n",
    "    name = os.path.basename(merged).split(\".assembled.fastq\")[0]\n",
    "    cmd = \"mkdir -p \"+ os.path.join(output_path, \"vidjil\", name)+\";\"\n",
    "    cmd += vidjil_path \n",
    "    cmd += ' -c clones -x all -X all '\n",
    "    cmd += '-o '+ os.path.join(output_path, \"vidjil\", name)\n",
    "    cmd += ' -v -g '+germline+' '\n",
    "    cmd += merged + ' > '+os.path.join(output_path, \"vidjil\", \"std.out\")\n",
    "#     print(cmd)\n",
    "    sp.check_output(cmd, shell = True)"
   ]
  },
  {
   "cell_type": "code",
   "execution_count": null,
   "id": "166c7ff2",
   "metadata": {},
   "outputs": [],
   "source": []
  }
 ],
 "metadata": {
  "kernelspec": {
   "display_name": "Python 3",
   "language": "python",
   "name": "python3"
  },
  "language_info": {
   "codemirror_mode": {
    "name": "ipython",
    "version": 3
   },
   "file_extension": ".py",
   "mimetype": "text/x-python",
   "name": "python",
   "nbconvert_exporter": "python",
   "pygments_lexer": "ipython3",
   "version": "3.6.15"
  }
 },
 "nbformat": 4,
 "nbformat_minor": 5
}
